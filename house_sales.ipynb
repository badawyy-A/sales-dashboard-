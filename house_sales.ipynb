{
 "cells": [
  {
   "cell_type": "markdown",
   "metadata": {},
   "source": [
    "### importing necessary libraries & reading the data \n"
   ]
  },
  {
   "cell_type": "code",
   "execution_count": 4,
   "metadata": {},
   "outputs": [],
   "source": [
    "import pandas as pd \n",
    "import matplotlib.pyplot as plt "
   ]
  },
  {
   "cell_type": "code",
   "execution_count": 6,
   "metadata": {},
   "outputs": [
    {
     "data": {
      "text/html": [
       "<div>\n",
       "<style scoped>\n",
       "    .dataframe tbody tr th:only-of-type {\n",
       "        vertical-align: middle;\n",
       "    }\n",
       "\n",
       "    .dataframe tbody tr th {\n",
       "        vertical-align: top;\n",
       "    }\n",
       "\n",
       "    .dataframe thead th {\n",
       "        text-align: right;\n",
       "    }\n",
       "</style>\n",
       "<table border=\"1\" class=\"dataframe\">\n",
       "  <thead>\n",
       "    <tr style=\"text-align: right;\">\n",
       "      <th></th>\n",
       "      <th>id</th>\n",
       "      <th>date</th>\n",
       "      <th>price</th>\n",
       "      <th>bedrooms</th>\n",
       "      <th>bathrooms</th>\n",
       "      <th>sqft_living</th>\n",
       "      <th>sqft_lot</th>\n",
       "      <th>floors</th>\n",
       "      <th>waterfront</th>\n",
       "      <th>view</th>\n",
       "      <th>condition</th>\n",
       "      <th>grade</th>\n",
       "      <th>yr_built</th>\n",
       "      <th>zipcode</th>\n",
       "      <th>lat</th>\n",
       "      <th>long</th>\n",
       "    </tr>\n",
       "  </thead>\n",
       "  <tbody>\n",
       "    <tr>\n",
       "      <th>0</th>\n",
       "      <td>629000615</td>\n",
       "      <td>20141022T000000</td>\n",
       "      <td>1,495,000</td>\n",
       "      <td>4</td>\n",
       "      <td>3.25</td>\n",
       "      <td>3070</td>\n",
       "      <td>10375</td>\n",
       "      <td>2.0</td>\n",
       "      <td>No</td>\n",
       "      <td>No View</td>\n",
       "      <td>Average</td>\n",
       "      <td>10</td>\n",
       "      <td>1962</td>\n",
       "      <td>98004</td>\n",
       "      <td>47.5862</td>\n",
       "      <td>-122.198</td>\n",
       "    </tr>\n",
       "    <tr>\n",
       "      <th>1</th>\n",
       "      <td>4141800215</td>\n",
       "      <td>20141126T000000</td>\n",
       "      <td>1,495,000</td>\n",
       "      <td>4</td>\n",
       "      <td>3.75</td>\n",
       "      <td>3770</td>\n",
       "      <td>4000</td>\n",
       "      <td>2.5</td>\n",
       "      <td>No</td>\n",
       "      <td>No View</td>\n",
       "      <td>Very Good</td>\n",
       "      <td>9</td>\n",
       "      <td>1916</td>\n",
       "      <td>98122</td>\n",
       "      <td>47.6157</td>\n",
       "      <td>-122.287</td>\n",
       "    </tr>\n",
       "    <tr>\n",
       "      <th>2</th>\n",
       "      <td>6448000020</td>\n",
       "      <td>20150129T000000</td>\n",
       "      <td>1,490,000</td>\n",
       "      <td>4</td>\n",
       "      <td>2.50</td>\n",
       "      <td>2420</td>\n",
       "      <td>18480</td>\n",
       "      <td>1.0</td>\n",
       "      <td>No</td>\n",
       "      <td>No View</td>\n",
       "      <td>Good</td>\n",
       "      <td>9</td>\n",
       "      <td>1967</td>\n",
       "      <td>98004</td>\n",
       "      <td>47.6214</td>\n",
       "      <td>-122.227</td>\n",
       "    </tr>\n",
       "    <tr>\n",
       "      <th>3</th>\n",
       "      <td>9522300010</td>\n",
       "      <td>20150331T000000</td>\n",
       "      <td>1,490,000</td>\n",
       "      <td>3</td>\n",
       "      <td>3.50</td>\n",
       "      <td>4560</td>\n",
       "      <td>14608</td>\n",
       "      <td>2.0</td>\n",
       "      <td>No</td>\n",
       "      <td>Average</td>\n",
       "      <td>Average</td>\n",
       "      <td>12</td>\n",
       "      <td>1990</td>\n",
       "      <td>98034</td>\n",
       "      <td>47.6995</td>\n",
       "      <td>-122.228</td>\n",
       "    </tr>\n",
       "    <tr>\n",
       "      <th>4</th>\n",
       "      <td>31000165</td>\n",
       "      <td>20140911T000000</td>\n",
       "      <td>1,490,000</td>\n",
       "      <td>5</td>\n",
       "      <td>3.50</td>\n",
       "      <td>3620</td>\n",
       "      <td>7821</td>\n",
       "      <td>2.0</td>\n",
       "      <td>No</td>\n",
       "      <td>Average</td>\n",
       "      <td>Average</td>\n",
       "      <td>10</td>\n",
       "      <td>1958</td>\n",
       "      <td>98040</td>\n",
       "      <td>47.5738</td>\n",
       "      <td>-122.215</td>\n",
       "    </tr>\n",
       "  </tbody>\n",
       "</table>\n",
       "</div>"
      ],
      "text/plain": [
       "           id             date        price  bedrooms  bathrooms  sqft_living  \\\n",
       "0   629000615  20141022T000000   1,495,000          4       3.25         3070   \n",
       "1  4141800215  20141126T000000   1,495,000          4       3.75         3770   \n",
       "2  6448000020  20150129T000000   1,490,000          4       2.50         2420   \n",
       "3  9522300010  20150331T000000   1,490,000          3       3.50         4560   \n",
       "4    31000165  20140911T000000   1,490,000          5       3.50         3620   \n",
       "\n",
       "   sqft_lot  floors waterfront     view  condition  grade  yr_built  zipcode  \\\n",
       "0     10375     2.0         No  No View    Average     10      1962    98004   \n",
       "1      4000     2.5         No  No View  Very Good      9      1916    98122   \n",
       "2     18480     1.0         No  No View       Good      9      1967    98004   \n",
       "3     14608     2.0         No  Average    Average     12      1990    98034   \n",
       "4      7821     2.0         No  Average    Average     10      1958    98040   \n",
       "\n",
       "       lat     long  \n",
       "0  47.5862 -122.198  \n",
       "1  47.6157 -122.287  \n",
       "2  47.6214 -122.227  \n",
       "3  47.6995 -122.228  \n",
       "4  47.5738 -122.215  "
      ]
     },
     "execution_count": 6,
     "metadata": {},
     "output_type": "execute_result"
    }
   ],
   "source": [
    "df = pd.read_csv('HouseData.csv') \n",
    "df.head()"
   ]
  },
  {
   "cell_type": "markdown",
   "metadata": {},
   "source": [
    "### Exploaring the data \n",
    "#### checking for nan values and dublicated values "
   ]
  },
  {
   "cell_type": "code",
   "execution_count": 7,
   "metadata": {},
   "outputs": [
    {
     "data": {
      "text/plain": [
       "id             0\n",
       "date           0\n",
       "price          0\n",
       "bedrooms       0\n",
       "bathrooms      0\n",
       "sqft_living    0\n",
       "sqft_lot       0\n",
       "floors         0\n",
       "waterfront     0\n",
       "view           0\n",
       "condition      0\n",
       "grade          0\n",
       "yr_built       0\n",
       "zipcode        0\n",
       "lat            0\n",
       "long           0\n",
       "dtype: int64"
      ]
     },
     "execution_count": 7,
     "metadata": {},
     "output_type": "execute_result"
    }
   ],
   "source": [
    "df.isna().sum()"
   ]
  },
  {
   "cell_type": "code",
   "execution_count": 8,
   "metadata": {},
   "outputs": [
    {
     "name": "stdout",
     "output_type": "stream",
     "text": [
      "<class 'pandas.core.frame.DataFrame'>\n",
      "RangeIndex: 21060 entries, 0 to 21059\n",
      "Data columns (total 16 columns):\n",
      " #   Column       Non-Null Count  Dtype  \n",
      "---  ------       --------------  -----  \n",
      " 0   id           21060 non-null  int64  \n",
      " 1   date         21060 non-null  object \n",
      " 2   price        21060 non-null  object \n",
      " 3   bedrooms     21060 non-null  int64  \n",
      " 4   bathrooms    21060 non-null  float64\n",
      " 5   sqft_living  21060 non-null  int64  \n",
      " 6   sqft_lot     21060 non-null  int64  \n",
      " 7   floors       21060 non-null  float64\n",
      " 8   waterfront   21060 non-null  object \n",
      " 9   view         21060 non-null  object \n",
      " 10  condition    21060 non-null  object \n",
      " 11  grade        21060 non-null  int64  \n",
      " 12  yr_built     21060 non-null  int64  \n",
      " 13  zipcode      21060 non-null  int64  \n",
      " 14  lat          21060 non-null  float64\n",
      " 15  long         21060 non-null  float64\n",
      "dtypes: float64(4), int64(7), object(5)\n",
      "memory usage: 2.6+ MB\n"
     ]
    }
   ],
   "source": [
    "df.info()"
   ]
  },
  {
   "cell_type": "code",
   "execution_count": 10,
   "metadata": {},
   "outputs": [
    {
     "data": {
      "text/html": [
       "<div>\n",
       "<style scoped>\n",
       "    .dataframe tbody tr th:only-of-type {\n",
       "        vertical-align: middle;\n",
       "    }\n",
       "\n",
       "    .dataframe tbody tr th {\n",
       "        vertical-align: top;\n",
       "    }\n",
       "\n",
       "    .dataframe thead th {\n",
       "        text-align: right;\n",
       "    }\n",
       "</style>\n",
       "<table border=\"1\" class=\"dataframe\">\n",
       "  <thead>\n",
       "    <tr style=\"text-align: right;\">\n",
       "      <th></th>\n",
       "      <th>id</th>\n",
       "      <th>bedrooms</th>\n",
       "      <th>bathrooms</th>\n",
       "      <th>sqft_living</th>\n",
       "      <th>sqft_lot</th>\n",
       "      <th>floors</th>\n",
       "      <th>grade</th>\n",
       "      <th>yr_built</th>\n",
       "      <th>zipcode</th>\n",
       "      <th>lat</th>\n",
       "      <th>long</th>\n",
       "    </tr>\n",
       "  </thead>\n",
       "  <tbody>\n",
       "    <tr>\n",
       "      <th>count</th>\n",
       "      <td>2.106000e+04</td>\n",
       "      <td>21060.000000</td>\n",
       "      <td>21060.000000</td>\n",
       "      <td>21060.000000</td>\n",
       "      <td>2.106000e+04</td>\n",
       "      <td>21060.000000</td>\n",
       "      <td>21060.000000</td>\n",
       "      <td>21060.000000</td>\n",
       "      <td>21060.000000</td>\n",
       "      <td>21060.000000</td>\n",
       "      <td>21060.000000</td>\n",
       "    </tr>\n",
       "    <tr>\n",
       "      <th>mean</th>\n",
       "      <td>4.591327e+09</td>\n",
       "      <td>3.343162</td>\n",
       "      <td>2.077991</td>\n",
       "      <td>2019.486942</td>\n",
       "      <td>1.474301e+04</td>\n",
       "      <td>1.484924</td>\n",
       "      <td>7.590123</td>\n",
       "      <td>1970.919943</td>\n",
       "      <td>98078.383761</td>\n",
       "      <td>47.558542</td>\n",
       "      <td>-122.213544</td>\n",
       "    </tr>\n",
       "    <tr>\n",
       "      <th>std</th>\n",
       "      <td>2.877902e+09</td>\n",
       "      <td>0.882395</td>\n",
       "      <td>0.729351</td>\n",
       "      <td>822.018441</td>\n",
       "      <td>3.995697e+04</td>\n",
       "      <td>0.538113</td>\n",
       "      <td>1.095947</td>\n",
       "      <td>29.265667</td>\n",
       "      <td>53.406460</td>\n",
       "      <td>0.139776</td>\n",
       "      <td>0.141789</td>\n",
       "    </tr>\n",
       "    <tr>\n",
       "      <th>min</th>\n",
       "      <td>1.000102e+06</td>\n",
       "      <td>0.000000</td>\n",
       "      <td>0.000000</td>\n",
       "      <td>290.000000</td>\n",
       "      <td>5.200000e+02</td>\n",
       "      <td>1.000000</td>\n",
       "      <td>1.000000</td>\n",
       "      <td>1900.000000</td>\n",
       "      <td>98001.000000</td>\n",
       "      <td>47.155900</td>\n",
       "      <td>-122.519000</td>\n",
       "    </tr>\n",
       "    <tr>\n",
       "      <th>25%</th>\n",
       "      <td>2.125057e+09</td>\n",
       "      <td>3.000000</td>\n",
       "      <td>1.500000</td>\n",
       "      <td>1410.000000</td>\n",
       "      <td>5.001000e+03</td>\n",
       "      <td>1.000000</td>\n",
       "      <td>7.000000</td>\n",
       "      <td>1951.000000</td>\n",
       "      <td>98033.000000</td>\n",
       "      <td>47.465700</td>\n",
       "      <td>-122.330000</td>\n",
       "    </tr>\n",
       "    <tr>\n",
       "      <th>50%</th>\n",
       "      <td>3.905030e+09</td>\n",
       "      <td>3.000000</td>\n",
       "      <td>2.250000</td>\n",
       "      <td>1890.000000</td>\n",
       "      <td>7.553500e+03</td>\n",
       "      <td>1.000000</td>\n",
       "      <td>7.000000</td>\n",
       "      <td>1975.000000</td>\n",
       "      <td>98065.000000</td>\n",
       "      <td>47.569200</td>\n",
       "      <td>-122.231000</td>\n",
       "    </tr>\n",
       "    <tr>\n",
       "      <th>75%</th>\n",
       "      <td>7.334500e+09</td>\n",
       "      <td>4.000000</td>\n",
       "      <td>2.500000</td>\n",
       "      <td>2490.000000</td>\n",
       "      <td>1.045400e+04</td>\n",
       "      <td>2.000000</td>\n",
       "      <td>8.000000</td>\n",
       "      <td>1996.000000</td>\n",
       "      <td>98118.000000</td>\n",
       "      <td>47.678925</td>\n",
       "      <td>-122.123000</td>\n",
       "    </tr>\n",
       "    <tr>\n",
       "      <th>max</th>\n",
       "      <td>9.900000e+09</td>\n",
       "      <td>7.000000</td>\n",
       "      <td>6.750000</td>\n",
       "      <td>7480.000000</td>\n",
       "      <td>1.651359e+06</td>\n",
       "      <td>3.500000</td>\n",
       "      <td>12.000000</td>\n",
       "      <td>2015.000000</td>\n",
       "      <td>98199.000000</td>\n",
       "      <td>47.777600</td>\n",
       "      <td>-121.315000</td>\n",
       "    </tr>\n",
       "  </tbody>\n",
       "</table>\n",
       "</div>"
      ],
      "text/plain": [
       "                 id      bedrooms     bathrooms   sqft_living      sqft_lot  \\\n",
       "count  2.106000e+04  21060.000000  21060.000000  21060.000000  2.106000e+04   \n",
       "mean   4.591327e+09      3.343162      2.077991   2019.486942  1.474301e+04   \n",
       "std    2.877902e+09      0.882395      0.729351    822.018441  3.995697e+04   \n",
       "min    1.000102e+06      0.000000      0.000000    290.000000  5.200000e+02   \n",
       "25%    2.125057e+09      3.000000      1.500000   1410.000000  5.001000e+03   \n",
       "50%    3.905030e+09      3.000000      2.250000   1890.000000  7.553500e+03   \n",
       "75%    7.334500e+09      4.000000      2.500000   2490.000000  1.045400e+04   \n",
       "max    9.900000e+09      7.000000      6.750000   7480.000000  1.651359e+06   \n",
       "\n",
       "             floors         grade      yr_built       zipcode           lat  \\\n",
       "count  21060.000000  21060.000000  21060.000000  21060.000000  21060.000000   \n",
       "mean       1.484924      7.590123   1970.919943  98078.383761     47.558542   \n",
       "std        0.538113      1.095947     29.265667     53.406460      0.139776   \n",
       "min        1.000000      1.000000   1900.000000  98001.000000     47.155900   \n",
       "25%        1.000000      7.000000   1951.000000  98033.000000     47.465700   \n",
       "50%        1.000000      7.000000   1975.000000  98065.000000     47.569200   \n",
       "75%        2.000000      8.000000   1996.000000  98118.000000     47.678925   \n",
       "max        3.500000     12.000000   2015.000000  98199.000000     47.777600   \n",
       "\n",
       "               long  \n",
       "count  21060.000000  \n",
       "mean    -122.213544  \n",
       "std        0.141789  \n",
       "min     -122.519000  \n",
       "25%     -122.330000  \n",
       "50%     -122.231000  \n",
       "75%     -122.123000  \n",
       "max     -121.315000  "
      ]
     },
     "execution_count": 10,
     "metadata": {},
     "output_type": "execute_result"
    }
   ],
   "source": [
    "df.describe()"
   ]
  },
  {
   "cell_type": "markdown",
   "metadata": {},
   "source": [
    "### fixing the format and data type for some features "
   ]
  },
  {
   "cell_type": "code",
   "execution_count": 13,
   "metadata": {},
   "outputs": [],
   "source": [
    "df['date'] = pd.to_datetime(df['date'], format='%Y%m%dT%H%M%S')"
   ]
  },
  {
   "cell_type": "code",
   "execution_count": 16,
   "metadata": {},
   "outputs": [],
   "source": [
    "df['price'] = df['price'].str.replace(',','').astype(int)"
   ]
  },
  {
   "cell_type": "code",
   "execution_count": 19,
   "metadata": {},
   "outputs": [],
   "source": [
    "df['bathrooms'] = df['bathrooms'].round().astype(int)"
   ]
  },
  {
   "cell_type": "code",
   "execution_count": 20,
   "metadata": {},
   "outputs": [],
   "source": [
    "df['floors'] = df['floors'].round().astype(int)"
   ]
  },
  {
   "cell_type": "code",
   "execution_count": 21,
   "metadata": {},
   "outputs": [
    {
     "data": {
      "text/plain": [
       "20887"
      ]
     },
     "execution_count": 21,
     "metadata": {},
     "output_type": "execute_result"
    }
   ],
   "source": [
    "df['id'].nunique()"
   ]
  },
  {
   "cell_type": "code",
   "execution_count": 23,
   "metadata": {},
   "outputs": [
    {
     "data": {
      "text/plain": [
       "0"
      ]
     },
     "execution_count": 23,
     "metadata": {},
     "output_type": "execute_result"
    }
   ],
   "source": [
    "df.duplicated().sum()"
   ]
  },
  {
   "cell_type": "code",
   "execution_count": 24,
   "metadata": {},
   "outputs": [
    {
     "data": {
      "text/plain": [
       "id             0\n",
       "date           0\n",
       "price          0\n",
       "bedrooms       0\n",
       "bathrooms      0\n",
       "sqft_living    0\n",
       "sqft_lot       0\n",
       "floors         0\n",
       "waterfront     0\n",
       "view           0\n",
       "condition      0\n",
       "grade          0\n",
       "yr_built       0\n",
       "zipcode        0\n",
       "lat            0\n",
       "long           0\n",
       "dtype: int64"
      ]
     },
     "execution_count": 24,
     "metadata": {},
     "output_type": "execute_result"
    }
   ],
   "source": [
    "df.isna().sum()"
   ]
  },
  {
   "cell_type": "code",
   "execution_count": 25,
   "metadata": {},
   "outputs": [
    {
     "name": "stdout",
     "output_type": "stream",
     "text": [
      "<class 'pandas.core.frame.DataFrame'>\n",
      "RangeIndex: 21060 entries, 0 to 21059\n",
      "Data columns (total 16 columns):\n",
      " #   Column       Non-Null Count  Dtype         \n",
      "---  ------       --------------  -----         \n",
      " 0   id           21060 non-null  int64         \n",
      " 1   date         21060 non-null  datetime64[ns]\n",
      " 2   price        21060 non-null  int32         \n",
      " 3   bedrooms     21060 non-null  int64         \n",
      " 4   bathrooms    21060 non-null  int32         \n",
      " 5   sqft_living  21060 non-null  int64         \n",
      " 6   sqft_lot     21060 non-null  int64         \n",
      " 7   floors       21060 non-null  int32         \n",
      " 8   waterfront   21060 non-null  object        \n",
      " 9   view         21060 non-null  object        \n",
      " 10  condition    21060 non-null  object        \n",
      " 11  grade        21060 non-null  int64         \n",
      " 12  yr_built     21060 non-null  int64         \n",
      " 13  zipcode      21060 non-null  int64         \n",
      " 14  lat          21060 non-null  float64       \n",
      " 15  long         21060 non-null  float64       \n",
      "dtypes: datetime64[ns](1), float64(2), int32(3), int64(7), object(3)\n",
      "memory usage: 2.3+ MB\n"
     ]
    }
   ],
   "source": [
    "df.info()"
   ]
  },
  {
   "cell_type": "markdown",
   "metadata": {},
   "source": [
    "### saving the data to csv file "
   ]
  },
  {
   "cell_type": "code",
   "execution_count": 27,
   "metadata": {},
   "outputs": [],
   "source": [
    "df.drop(columns=['id']).to_csv('finall_house_data.csv')"
   ]
  }
 ],
 "metadata": {
  "kernelspec": {
   "display_name": "Python 3",
   "language": "python",
   "name": "python3"
  },
  "language_info": {
   "codemirror_mode": {
    "name": "ipython",
    "version": 3
   },
   "file_extension": ".py",
   "mimetype": "text/x-python",
   "name": "python",
   "nbconvert_exporter": "python",
   "pygments_lexer": "ipython3",
   "version": "3.12.5"
  }
 },
 "nbformat": 4,
 "nbformat_minor": 2
}
